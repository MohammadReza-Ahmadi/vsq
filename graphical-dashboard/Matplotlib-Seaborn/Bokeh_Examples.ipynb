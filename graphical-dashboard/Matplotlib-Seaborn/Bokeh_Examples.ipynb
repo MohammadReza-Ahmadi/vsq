{
  "nbformat": 4,
  "nbformat_minor": 0,
  "metadata": {
    "colab": {
      "name": "Bokeh_1.ipynb",
      "provenance": []
    },
    "kernelspec": {
      "name": "python3",
      "display_name": "Python 3"
    }
  },
  "cells": [
    {
      "cell_type": "code",
      "metadata": {
        "id": "s82RtnrLOIA9"
      },
      "source": [
        "# Standard imports \n",
        "\n",
        "from bokeh.io import output_notebook, show\n",
        "output_notebook()"
      ],
      "execution_count": 1,
      "outputs": []
    },
    {
      "cell_type": "code",
      "metadata": {
        "colab": {
          "base_uri": "https://localhost:8080/",
          "height": 202
        },
        "id": "hy1xCb9cQE24",
        "outputId": "44e9fe50-11c4-472c-eac4-788a7eeaac99"
      },
      "source": [
        "# Plot a complex chart with interactive hover in a few lines of code\n",
        "\n",
        "from bokeh.models import ColumnDataSource, HoverTool\n",
        "from bokeh.plotting import figure\n",
        "from bokeh.sampledata.autompg import autompg_clean as df\n",
        "from bokeh.transform import factor_cmap\n",
        "\n",
        "df.cyl = df.cyl.astype(str)\n",
        "df.yr = df.yr.astype(str)\n",
        "\n",
        "group = df.groupby(by=['cyl', 'mfr'])\n",
        "source = ColumnDataSource(group)\n",
        "\n",
        "p = figure(plot_width=800, plot_height=300, title=\"Mean MPG by # Cylinders and Manufacturer\",\n",
        "           x_range=group, toolbar_location=None, tools=\"\")\n",
        "\n",
        "p.xgrid.grid_line_color = None\n",
        "p.xaxis.axis_label = \"Manufacturer grouped by # Cylinders\"\n",
        "p.xaxis.major_label_orientation = 1.2\n",
        "\n",
        "index_cmap = factor_cmap('cyl_mfr', palette=['#2b83ba', '#abdda4', '#ffffbf', '#fdae61', '#d7191c'], \n",
        "                         factors=sorted(df.cyl.unique()), end=1)\n",
        "\n",
        "p.vbar(x='cyl_mfr', top='mpg_mean', width=1, source=source,\n",
        "       line_color=\"white\", fill_color=index_cmap, \n",
        "       hover_line_color=\"darkgrey\", hover_fill_color=index_cmap)\n",
        "\n",
        "p.add_tools(HoverTool(tooltips=[(\"MPG\", \"@mpg_mean\"), (\"Cyl, Mfr\", \"@cyl_mfr\")]))\n",
        "\n",
        "show(p)"
      ],
      "execution_count": 1,
      "outputs": [
        {
          "output_type": "error",
          "ename": "NameError",
          "evalue": "ignored",
          "traceback": [
            "\u001b[0;31m---------------------------------------------------------------------------\u001b[0m",
            "\u001b[0;31mNameError\u001b[0m                                 Traceback (most recent call last)",
            "\u001b[0;32m<ipython-input-1-cab2b2ea75b2>\u001b[0m in \u001b[0;36m<module>\u001b[0;34m()\u001b[0m\n\u001b[1;32m     28\u001b[0m \u001b[0mp\u001b[0m\u001b[0;34m.\u001b[0m\u001b[0madd_tools\u001b[0m\u001b[0;34m(\u001b[0m\u001b[0mHoverTool\u001b[0m\u001b[0;34m(\u001b[0m\u001b[0mtooltips\u001b[0m\u001b[0;34m=\u001b[0m\u001b[0;34m[\u001b[0m\u001b[0;34m(\u001b[0m\u001b[0;34m\"MPG\"\u001b[0m\u001b[0;34m,\u001b[0m \u001b[0;34m\"@mpg_mean\"\u001b[0m\u001b[0;34m)\u001b[0m\u001b[0;34m,\u001b[0m \u001b[0;34m(\u001b[0m\u001b[0;34m\"Cyl, Mfr\"\u001b[0m\u001b[0;34m,\u001b[0m \u001b[0;34m\"@cyl_mfr\"\u001b[0m\u001b[0;34m)\u001b[0m\u001b[0;34m]\u001b[0m\u001b[0;34m)\u001b[0m\u001b[0;34m)\u001b[0m\u001b[0;34m\u001b[0m\u001b[0;34m\u001b[0m\u001b[0m\n\u001b[1;32m     29\u001b[0m \u001b[0;34m\u001b[0m\u001b[0m\n\u001b[0;32m---> 30\u001b[0;31m \u001b[0mshow\u001b[0m\u001b[0;34m(\u001b[0m\u001b[0mp\u001b[0m\u001b[0;34m)\u001b[0m\u001b[0;34m\u001b[0m\u001b[0;34m\u001b[0m\u001b[0m\n\u001b[0m",
            "\u001b[0;31mNameError\u001b[0m: name 'show' is not defined"
          ]
        }
      ]
    },
    {
      "cell_type": "code",
      "metadata": {
        "colab": {
          "base_uri": "https://localhost:8080/",
          "height": 521
        },
        "id": "UnPPuApsQLSq",
        "outputId": "19916976-aa57-4fed-f8df-e57853bda351"
      },
      "source": [
        "# Create and deploy interactive data applications\n",
        "\n",
        "from IPython.display import IFrame\n",
        "IFrame('https://demo.bokeh.org/sliders', width=900, height=500)"
      ],
      "execution_count": 2,
      "outputs": [
        {
          "output_type": "execute_result",
          "data": {
            "text/html": [
              "\n",
              "        <iframe\n",
              "            width=\"900\"\n",
              "            height=\"500\"\n",
              "            src=\"https://demo.bokeh.org/sliders\"\n",
              "            frameborder=\"0\"\n",
              "            allowfullscreen\n",
              "        ></iframe>\n",
              "        "
            ],
            "text/plain": [
              "<IPython.lib.display.IFrame at 0x7f55065e1630>"
            ]
          },
          "metadata": {
            "tags": []
          },
          "execution_count": 2
        }
      ]
    },
    {
      "cell_type": "code",
      "metadata": {
        "colab": {
          "base_uri": "https://localhost:8080/",
          "height": 687
        },
        "id": "U0gIsxneR3Tb",
        "outputId": "64f1aa1b-6fea-454f-9d53-3b7f83038cf6"
      },
      "source": [
        "# Create and deploy interactive data applications\n",
        "\n",
        "from IPython.display import IFrame\n",
        "IFrame('https://demo.bokeh.org/crossfilter', width=1111, height=666)"
      ],
      "execution_count": 4,
      "outputs": [
        {
          "output_type": "execute_result",
          "data": {
            "text/html": [
              "\n",
              "        <iframe\n",
              "            width=\"1111\"\n",
              "            height=\"666\"\n",
              "            src=\"https://demo.bokeh.org/crossfilter\"\n",
              "            frameborder=\"0\"\n",
              "            allowfullscreen\n",
              "        ></iframe>\n",
              "        "
            ],
            "text/plain": [
              "<IPython.lib.display.IFrame at 0x7f55065e17b8>"
            ]
          },
          "metadata": {
            "tags": []
          },
          "execution_count": 4
        }
      ]
    },
    {
      "cell_type": "code",
      "metadata": {
        "colab": {
          "base_uri": "https://localhost:8080/",
          "height": 1000
        },
        "id": "ZVs1f7IsUyDp",
        "outputId": "7eb22bf7-3f9d-4803-a88a-76b09978888a"
      },
      "source": [
        "# Create and deploy interactive data applications\n",
        "\n",
        "from IPython.display import IFrame\n",
        "IFrame('https://demo.bokeh.org/surface3d', width=1111, height=1111)"
      ],
      "execution_count": 10,
      "outputs": [
        {
          "output_type": "execute_result",
          "data": {
            "text/html": [
              "\n",
              "        <iframe\n",
              "            width=\"1111\"\n",
              "            height=\"1111\"\n",
              "            src=\"https://demo.bokeh.org/surface3d\"\n",
              "            frameborder=\"0\"\n",
              "            allowfullscreen\n",
              "        ></iframe>\n",
              "        "
            ],
            "text/plain": [
              "<IPython.lib.display.IFrame at 0x7efdda61bb70>"
            ]
          },
          "metadata": {
            "tags": []
          },
          "execution_count": 10
        }
      ]
    },
    {
      "cell_type": "code",
      "metadata": {
        "colab": {
          "base_uri": "https://localhost:8080/",
          "height": 1000
        },
        "id": "cYFQIAl4VKdw",
        "outputId": "53a77943-2a4b-48c8-a01b-310e22a05a55"
      },
      "source": [
        "# Create and deploy interactive data applications\n",
        "\n",
        "from IPython.display import IFrame\n",
        "IFrame('https://demo.bokeh.org/export_csv', width=1111, height=1111)"
      ],
      "execution_count": 12,
      "outputs": [
        {
          "output_type": "execute_result",
          "data": {
            "text/html": [
              "\n",
              "        <iframe\n",
              "            width=\"1111\"\n",
              "            height=\"1111\"\n",
              "            src=\"https://demo.bokeh.org/export_csv\"\n",
              "            frameborder=\"0\"\n",
              "            allowfullscreen\n",
              "        ></iframe>\n",
              "        "
            ],
            "text/plain": [
              "<IPython.lib.display.IFrame at 0x7efdda61b9e8>"
            ]
          },
          "metadata": {
            "tags": []
          },
          "execution_count": 12
        }
      ]
    },
    {
      "cell_type": "code",
      "metadata": {
        "colab": {
          "base_uri": "https://localhost:8080/",
          "height": 1000
        },
        "id": "HmYfuNc5Wd9D",
        "outputId": "5dd9df70-1cfc-4666-df8f-3fa5ceda984c"
      },
      "source": [
        "# Create and deploy interactive data applications\n",
        "\n",
        "from IPython.display import IFrame\n",
        "IFrame('https://demo.bokeh.org/stocks', width=1111, height=1111)"
      ],
      "execution_count": 13,
      "outputs": [
        {
          "output_type": "execute_result",
          "data": {
            "text/html": [
              "\n",
              "        <iframe\n",
              "            width=\"1111\"\n",
              "            height=\"1111\"\n",
              "            src=\"https://demo.bokeh.org/stocks\"\n",
              "            frameborder=\"0\"\n",
              "            allowfullscreen\n",
              "        ></iframe>\n",
              "        "
            ],
            "text/plain": [
              "<IPython.lib.display.IFrame at 0x7efdda61be80>"
            ]
          },
          "metadata": {
            "tags": []
          },
          "execution_count": 13
        }
      ]
    },
    {
      "cell_type": "code",
      "metadata": {
        "colab": {
          "base_uri": "https://localhost:8080/",
          "height": 1000
        },
        "id": "rFfYcztOW6_w",
        "outputId": "2a7a9097-b071-4c66-decc-b55f31ac3c4c"
      },
      "source": [
        "# Create and deploy interactive data applications\n",
        "\n",
        "from IPython.display import IFrame\n",
        "IFrame('https://demo.bokeh.org/selection_histogram', width=3000, height=2000)"
      ],
      "execution_count": 16,
      "outputs": [
        {
          "output_type": "execute_result",
          "data": {
            "text/html": [
              "\n",
              "        <iframe\n",
              "            width=\"3000\"\n",
              "            height=\"2000\"\n",
              "            src=\"https://demo.bokeh.org/selection_histogram\"\n",
              "            frameborder=\"0\"\n",
              "            allowfullscreen\n",
              "        ></iframe>\n",
              "        "
            ],
            "text/plain": [
              "<IPython.lib.display.IFrame at 0x7efdda62b390>"
            ]
          },
          "metadata": {
            "tags": []
          },
          "execution_count": 16
        }
      ]
    },
    {
      "cell_type": "code",
      "metadata": {
        "colab": {
          "base_uri": "https://localhost:8080/",
          "height": 1000
        },
        "id": "hpldPSXBX0SX",
        "outputId": "40a95ee3-da1f-4039-c53a-bb077b4057d6"
      },
      "source": [
        "# Create and deploy interactive data applications\n",
        "\n",
        "from IPython.display import IFrame\n",
        "IFrame('https://demo.bokeh.org/weather', width=1500, height=1000)"
      ],
      "execution_count": 18,
      "outputs": [
        {
          "output_type": "execute_result",
          "data": {
            "text/html": [
              "\n",
              "        <iframe\n",
              "            width=\"1500\"\n",
              "            height=\"1000\"\n",
              "            src=\"https://demo.bokeh.org/weather\"\n",
              "            frameborder=\"0\"\n",
              "            allowfullscreen\n",
              "        ></iframe>\n",
              "        "
            ],
            "text/plain": [
              "<IPython.lib.display.IFrame at 0x7efdda62b358>"
            ]
          },
          "metadata": {
            "tags": []
          },
          "execution_count": 18
        }
      ]
    },
    {
      "cell_type": "code",
      "metadata": {
        "colab": {
          "base_uri": "https://localhost:8080/",
          "height": 1000
        },
        "id": "ukOVhwNJYi7X",
        "outputId": "abd1216e-bfc5-4b8c-f793-6b2e2900c44a"
      },
      "source": [
        "# Create and deploy interactive data applications\n",
        "\n",
        "from IPython.display import IFrame\n",
        "IFrame('https://demo.bokeh.org/gapminder', width=1500, height=1000)"
      ],
      "execution_count": 19,
      "outputs": [
        {
          "output_type": "execute_result",
          "data": {
            "text/html": [
              "\n",
              "        <iframe\n",
              "            width=\"1500\"\n",
              "            height=\"1000\"\n",
              "            src=\"https://demo.bokeh.org/gapminder\"\n",
              "            frameborder=\"0\"\n",
              "            allowfullscreen\n",
              "        ></iframe>\n",
              "        "
            ],
            "text/plain": [
              "<IPython.lib.display.IFrame at 0x7efdda62b550>"
            ]
          },
          "metadata": {
            "tags": []
          },
          "execution_count": 19
        }
      ]
    },
    {
      "cell_type": "code",
      "metadata": {
        "colab": {
          "base_uri": "https://localhost:8080/",
          "height": 1000
        },
        "id": "Gii6OiyTaEHQ",
        "outputId": "7d8d3832-ed59-4f07-82dd-586503ccc5f0"
      },
      "source": [
        "# Create and deploy interactive data applications\n",
        "\n",
        "from IPython.display import IFrame\n",
        "IFrame('https://demo.bokeh.org/movies', width=1400, height=1350)"
      ],
      "execution_count": 26,
      "outputs": [
        {
          "output_type": "execute_result",
          "data": {
            "text/html": [
              "\n",
              "        <iframe\n",
              "            width=\"1400\"\n",
              "            height=\"1350\"\n",
              "            src=\"https://demo.bokeh.org/movies\"\n",
              "            frameborder=\"0\"\n",
              "            allowfullscreen\n",
              "        ></iframe>\n",
              "        "
            ],
            "text/plain": [
              "<IPython.lib.display.IFrame at 0x7efdda53f3c8>"
            ]
          },
          "metadata": {
            "tags": []
          },
          "execution_count": 26
        }
      ]
    }
  ]
}